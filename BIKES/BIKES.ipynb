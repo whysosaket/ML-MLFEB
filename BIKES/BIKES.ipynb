{
 "cells": [
  {
   "cell_type": "code",
   "execution_count": 1,
   "id": "3a89f09a-fb73-4968-9c4d-d4b44a332e99",
   "metadata": {
    "tags": []
   },
   "outputs": [],
   "source": [
    "import pandas as pd\n",
    "import numpy as np\n",
    "import matplotlib.pyplot as plt\n",
    "from imblearn.over_sampling import RandomOverSampler\n",
    "from sklearn.preprocessing import StandardScaler\n",
    "import copy\n",
    "import seaborn as sns\n",
    "import tensorflow as tf\n",
    "from sklearn.linear_model import LinearRegression"
   ]
  },
  {
   "cell_type": "markdown",
   "id": "d42e0e01-f44e-4198-aa2c-62a782622bca",
   "metadata": {},
   "source": [
    "# Sources and Credits\n",
    "\n",
    "Data Source :http://data.seoul.go.kr/\n",
    "SOUTH KOREA PUBLIC HOLIDAYS. URL: publicholidays.go.kr\n",
    "\n",
    "\n",
    "Data Set Information:\n",
    "\n",
    "Currently Rental bikes are introduced in many urban cities for the enhancement of mobility comfort. It is important to make the rental bike available and accessible to the public at the right time as it lessens the waiting time. Eventually, providing the city with a stable supply of rental bikes becomes a major concern. The crucial part is the prediction of bike count required at each hour for the stable supply of rental bikes.\n",
    "The dataset contains weather information (Temperature, Humidity, Windspeed, Visibility, Dewpoint, Solar radiation, Snowfall, Rainfall), the number of bikes rented per hour and date information.\n",
    "\n",
    "\n",
    "Attribute Information:\n",
    "\n",
    "Date : year-month-day\n",
    "Rented Bike count - Count of bikes rented at each hour\n",
    "Hour - Hour of he day\n",
    "Temperature-Temperature in Celsius\n",
    "Humidity - %\n",
    "Windspeed - m/s\n",
    "Visibility - 10m\n",
    "Dew point temperature - Celsius\n",
    "Solar radiation - MJ/m2\n",
    "Rainfall - mm\n",
    "Snowfall - cm\n",
    "Seasons - Winter, Spring, Summer, Autumn\n",
    "Holiday - Holiday/No holiday\n",
    "Functional Day - NoFunc(Non Functional Hours), Fun(Functional hours)"
   ]
  },
  {
   "cell_type": "code",
   "execution_count": 2,
   "id": "d1ca20a1-6392-4c50-9185-eca74ee14e7e",
   "metadata": {
    "tags": []
   },
   "outputs": [],
   "source": [
    "dataset_cols = [\"bike_count\", \"hour\", \"temp\", \"humidity\", \"wind\", \"visibility\", \"dew_pt_temp\", \"radiation\", \"rain\", \"snow\", \"functional\"]"
   ]
  },
  {
   "cell_type": "code",
   "execution_count": 3,
   "id": "40fc7c7e-a23b-4f6c-b42c-6fd0c2e6e99a",
   "metadata": {
    "tags": []
   },
   "outputs": [],
   "source": [
    "# Reading the data frame\n",
    "df = pd.read_csv(\"SeoulBikeData.csv\").drop([\"Date\", \"Holiday\", \"Seasons\"], axis=1)\n",
    "# showing the top 5 values\n",
    "# df.head()"
   ]
  },
  {
   "cell_type": "code",
   "execution_count": null,
   "id": "537f75f5-d20e-40fd-98c6-5c4bfc12f461",
   "metadata": {
    "tags": []
   },
   "outputs": [],
   "source": [
    "# setting the dataframe columns to our relevant data\n",
    "df.columns = dataset_cols\n",
    "# convert functional column as type integer\n",
    "df[\"functional\"] = (df[\"functional\"] == \"Yes\").astype(int)\n",
    "df.head()"
   ]
  },
  {
   "cell_type": "code",
   "execution_count": 5,
   "id": "cf9b04a0-df52-423d-9c8c-8726f4a0538c",
   "metadata": {
    "tags": []
   },
   "outputs": [
    {
     "data": {
      "text/html": [
       "<div>\n",
       "<style scoped>\n",
       "    .dataframe tbody tr th:only-of-type {\n",
       "        vertical-align: middle;\n",
       "    }\n",
       "\n",
       "    .dataframe tbody tr th {\n",
       "        vertical-align: top;\n",
       "    }\n",
       "\n",
       "    .dataframe thead th {\n",
       "        text-align: right;\n",
       "    }\n",
       "</style>\n",
       "<table border=\"1\" class=\"dataframe\">\n",
       "  <thead>\n",
       "    <tr style=\"text-align: right;\">\n",
       "      <th></th>\n",
       "      <th>bike_count</th>\n",
       "      <th>temp</th>\n",
       "      <th>humidity</th>\n",
       "      <th>wind</th>\n",
       "      <th>visibility</th>\n",
       "      <th>dew_pt_temp</th>\n",
       "      <th>radiation</th>\n",
       "      <th>rain</th>\n",
       "      <th>snow</th>\n",
       "      <th>functional</th>\n",
       "    </tr>\n",
       "  </thead>\n",
       "  <tbody>\n",
       "    <tr>\n",
       "      <th>12</th>\n",
       "      <td>449</td>\n",
       "      <td>1.7</td>\n",
       "      <td>23</td>\n",
       "      <td>1.4</td>\n",
       "      <td>2000</td>\n",
       "      <td>-17.2</td>\n",
       "      <td>1.11</td>\n",
       "      <td>0.0</td>\n",
       "      <td>0.0</td>\n",
       "      <td>1</td>\n",
       "    </tr>\n",
       "    <tr>\n",
       "      <th>36</th>\n",
       "      <td>479</td>\n",
       "      <td>4.3</td>\n",
       "      <td>41</td>\n",
       "      <td>1.3</td>\n",
       "      <td>1666</td>\n",
       "      <td>-7.8</td>\n",
       "      <td>1.09</td>\n",
       "      <td>0.0</td>\n",
       "      <td>0.0</td>\n",
       "      <td>1</td>\n",
       "    </tr>\n",
       "    <tr>\n",
       "      <th>60</th>\n",
       "      <td>333</td>\n",
       "      <td>5.8</td>\n",
       "      <td>85</td>\n",
       "      <td>1.7</td>\n",
       "      <td>349</td>\n",
       "      <td>3.4</td>\n",
       "      <td>0.43</td>\n",
       "      <td>0.0</td>\n",
       "      <td>0.0</td>\n",
       "      <td>1</td>\n",
       "    </tr>\n",
       "    <tr>\n",
       "      <th>84</th>\n",
       "      <td>393</td>\n",
       "      <td>-0.3</td>\n",
       "      <td>38</td>\n",
       "      <td>4.8</td>\n",
       "      <td>1823</td>\n",
       "      <td>-12.9</td>\n",
       "      <td>1.11</td>\n",
       "      <td>0.0</td>\n",
       "      <td>0.0</td>\n",
       "      <td>1</td>\n",
       "    </tr>\n",
       "    <tr>\n",
       "      <th>108</th>\n",
       "      <td>321</td>\n",
       "      <td>-2.3</td>\n",
       "      <td>25</td>\n",
       "      <td>0.0</td>\n",
       "      <td>1962</td>\n",
       "      <td>-19.7</td>\n",
       "      <td>0.00</td>\n",
       "      <td>0.0</td>\n",
       "      <td>0.0</td>\n",
       "      <td>1</td>\n",
       "    </tr>\n",
       "  </tbody>\n",
       "</table>\n",
       "</div>"
      ],
      "text/plain": [
       "     bike_count  temp  humidity  wind  visibility  dew_pt_temp  radiation  \\\n",
       "12          449   1.7        23   1.4        2000        -17.2       1.11   \n",
       "36          479   4.3        41   1.3        1666         -7.8       1.09   \n",
       "60          333   5.8        85   1.7         349          3.4       0.43   \n",
       "84          393  -0.3        38   4.8        1823        -12.9       1.11   \n",
       "108         321  -2.3        25   0.0        1962        -19.7       0.00   \n",
       "\n",
       "     rain  snow  functional  \n",
       "12    0.0   0.0           1  \n",
       "36    0.0   0.0           1  \n",
       "60    0.0   0.0           1  \n",
       "84    0.0   0.0           1  \n",
       "108   0.0   0.0           1  "
      ]
     },
     "execution_count": 5,
     "metadata": {},
     "output_type": "execute_result"
    }
   ],
   "source": [
    "# Now, we'll use only for time where hour is equal to 12\n",
    "df = df[df[\"hour\"] == 12]\n",
    "df = df.drop([\"hour\"], axis = 1)\n",
    "df.head()"
   ]
  },
  {
   "cell_type": "code",
   "execution_count": null,
   "id": "66ac6c18-5e46-4120-ae45-7d7d5fb9c219",
   "metadata": {
    "tags": []
   },
   "outputs": [],
   "source": [
    "# Now, we are going to print and plot all the data\n",
    "for label in df.columns[1:]:\n",
    "    plt.scatter(df[label], df[\"bike_count\"])\n",
    "    plt.title(label)\n",
    "    plt.ylabel(\"Bike count at noon\")\n",
    "    plt.xlabel(label)\n",
    "    plt.show()"
   ]
  },
  {
   "cell_type": "markdown",
   "id": "00c49221-906e-4972-815e-13fb8b9d2b14",
   "metadata": {},
   "source": [
    "# Training Validation and Test Dataset"
   ]
  },
  {
   "cell_type": "code",
   "execution_count": 7,
   "id": "b5c067d7-3af9-4ea4-81de-f89bd6e5193a",
   "metadata": {
    "tags": []
   },
   "outputs": [],
   "source": [
    "train, val, test = np.split(df.sample(frac=1), [int(0.6*len(df)), int(0.8*len(df))])"
   ]
  },
  {
   "cell_type": "code",
   "execution_count": 37,
   "id": "99a0fe85-6dad-4251-b667-9ef3410a8cf1",
   "metadata": {
    "tags": []
   },
   "outputs": [],
   "source": [
    "# Writing a function to get xy\n",
    "def get_xy(dataframe, y_label, x_labels=None):\n",
    "    # creating a deep copy of the data frame\n",
    "    # Basically copying everything over\n",
    "    dataframe = copy.deepcopy(dataframe)\n",
    "    if x_labels is None:\n",
    "        # if x_label is not defined then the values from the df are taken as x_labels\n",
    "        X = dataframe[[c for c in dataframe.columns if c!=y_label]].values\n",
    "    else:\n",
    "        if len(x_labels) == 1:\n",
    "            X = dataframe[x_labels[0]].values.reshape(-1,1)\n",
    "        else:\n",
    "            X = dataframe[x_labels].values\n",
    "    y = dataframe[y_label].values.reshape(-1,1)\n",
    "    data = np.hstack((X,y))\n",
    "    \n",
    "    return data, X, y"
   ]
  },
  {
   "cell_type": "code",
   "execution_count": 18,
   "id": "dcf39b11-64ce-49e7-9c33-943fac7d8a50",
   "metadata": {},
   "outputs": [],
   "source": [
    "_, X_train_temp, y_train_temp = get_xy(train, \"bike_count\", x_labels=[\"temp\"])\n",
    "_, X_val_temp, y_val_temp = get_xy(val, \"bike_count\", x_labels=[\"temp\"])\n",
    "_, X_test_temp, y_test_temp = get_xy(test, \"bike_count\", x_labels=[\"temp\"])"
   ]
  },
  {
   "cell_type": "code",
   "execution_count": null,
   "id": "1597e158-1a34-40ce-b6d7-60127db8e5f8",
   "metadata": {
    "tags": []
   },
   "outputs": [],
   "source": [
    "# Making an actual regression model\n",
    "temp_reg = LinearRegression()\n",
    "temp_reg.fit(X_train_temp, y_train_temp)"
   ]
  },
  {
   "cell_type": "code",
   "execution_count": 28,
   "id": "ab1f463a-7a18-4f1a-83c4-47f8d205aa7f",
   "metadata": {
    "tags": []
   },
   "outputs": [
    {
     "name": "stdout",
     "output_type": "stream",
     "text": [
      "[[20.18040566]] [374.25113507]\n"
     ]
    },
    {
     "data": {
      "text/plain": [
       "0.341875045816599"
      ]
     },
     "execution_count": 28,
     "metadata": {},
     "output_type": "execute_result"
    }
   ],
   "source": [
    "# This below code just prints the coefficient and the intercept for the given data model\n",
    "print(temp_reg.coef_, temp_reg.intercept_)\n",
    "# now we check assiciation using the R^2 value using the .score method\n",
    "temp_reg.score(X_train_temp, y_train_temp)\n",
    "# Here we get the value nearly, 0.34 which is more than zero (which means that there is no assication (At ZERO))\n",
    "# This value also means that it is also not very good enough\n",
    "\n",
    "# In short, the higher the number is the higher the number will be co-related"
   ]
  },
  {
   "cell_type": "code",
   "execution_count": null,
   "id": "a43db426-4316-4417-8b29-2c34f3109f3f",
   "metadata": {
    "tags": []
   },
   "outputs": [],
   "source": [
    "# Plotting the line of best fit\n",
    "plt.scatter(X_train_temp, y_train_temp, label=\"Data\", color=\"blue\")\n",
    "x = tf.linspace(-20,40,100)\n",
    "plt.plot(x, temp_reg.predict(np.array(x).reshape(-1,1)), label=\"Fit\", color=\"red\", linewidth=3)\n",
    "plt.legend()\n",
    "plt.title(\"Bikes vs Temp\")\n",
    "plt.ylabel(\"Number of bikes\")\n",
    "plt.xlabel(\"Temp\")\n",
    "plt.show()"
   ]
  },
  {
   "cell_type": "markdown",
   "id": "f35eae02-8e31-4094-81ce-5d905f2f91de",
   "metadata": {},
   "source": [
    "# Multiple Linear Regression"
   ]
  },
  {
   "cell_type": "code",
   "execution_count": 39,
   "id": "9208271e-68ad-42bc-af63-f9b2ed0e5069",
   "metadata": {
    "tags": []
   },
   "outputs": [],
   "source": [
    "_, X_train_all, y_train_all = get_xy(train, \"bike_count\", x_labels=df.columns[1:])\n",
    "_, X_val_all, y_val_all = get_xy(val, \"bike_count\", x_labels=df.columns[1:])\n",
    "_, X_test_all, y_test_all = get_xy(test, \"bike_count\", x_labels=df.columns[1:])"
   ]
  },
  {
   "cell_type": "code",
   "execution_count": 40,
   "id": "5b81d6f1-13f0-4b43-8b39-1f3efdee28e1",
   "metadata": {
    "tags": []
   },
   "outputs": [
    {
     "data": {
      "text/html": [
       "<style>#sk-container-id-2 {color: black;background-color: white;}#sk-container-id-2 pre{padding: 0;}#sk-container-id-2 div.sk-toggleable {background-color: white;}#sk-container-id-2 label.sk-toggleable__label {cursor: pointer;display: block;width: 100%;margin-bottom: 0;padding: 0.3em;box-sizing: border-box;text-align: center;}#sk-container-id-2 label.sk-toggleable__label-arrow:before {content: \"▸\";float: left;margin-right: 0.25em;color: #696969;}#sk-container-id-2 label.sk-toggleable__label-arrow:hover:before {color: black;}#sk-container-id-2 div.sk-estimator:hover label.sk-toggleable__label-arrow:before {color: black;}#sk-container-id-2 div.sk-toggleable__content {max-height: 0;max-width: 0;overflow: hidden;text-align: left;background-color: #f0f8ff;}#sk-container-id-2 div.sk-toggleable__content pre {margin: 0.2em;color: black;border-radius: 0.25em;background-color: #f0f8ff;}#sk-container-id-2 input.sk-toggleable__control:checked~div.sk-toggleable__content {max-height: 200px;max-width: 100%;overflow: auto;}#sk-container-id-2 input.sk-toggleable__control:checked~label.sk-toggleable__label-arrow:before {content: \"▾\";}#sk-container-id-2 div.sk-estimator input.sk-toggleable__control:checked~label.sk-toggleable__label {background-color: #d4ebff;}#sk-container-id-2 div.sk-label input.sk-toggleable__control:checked~label.sk-toggleable__label {background-color: #d4ebff;}#sk-container-id-2 input.sk-hidden--visually {border: 0;clip: rect(1px 1px 1px 1px);clip: rect(1px, 1px, 1px, 1px);height: 1px;margin: -1px;overflow: hidden;padding: 0;position: absolute;width: 1px;}#sk-container-id-2 div.sk-estimator {font-family: monospace;background-color: #f0f8ff;border: 1px dotted black;border-radius: 0.25em;box-sizing: border-box;margin-bottom: 0.5em;}#sk-container-id-2 div.sk-estimator:hover {background-color: #d4ebff;}#sk-container-id-2 div.sk-parallel-item::after {content: \"\";width: 100%;border-bottom: 1px solid gray;flex-grow: 1;}#sk-container-id-2 div.sk-label:hover label.sk-toggleable__label {background-color: #d4ebff;}#sk-container-id-2 div.sk-serial::before {content: \"\";position: absolute;border-left: 1px solid gray;box-sizing: border-box;top: 0;bottom: 0;left: 50%;z-index: 0;}#sk-container-id-2 div.sk-serial {display: flex;flex-direction: column;align-items: center;background-color: white;padding-right: 0.2em;padding-left: 0.2em;position: relative;}#sk-container-id-2 div.sk-item {position: relative;z-index: 1;}#sk-container-id-2 div.sk-parallel {display: flex;align-items: stretch;justify-content: center;background-color: white;position: relative;}#sk-container-id-2 div.sk-item::before, #sk-container-id-2 div.sk-parallel-item::before {content: \"\";position: absolute;border-left: 1px solid gray;box-sizing: border-box;top: 0;bottom: 0;left: 50%;z-index: -1;}#sk-container-id-2 div.sk-parallel-item {display: flex;flex-direction: column;z-index: 1;position: relative;background-color: white;}#sk-container-id-2 div.sk-parallel-item:first-child::after {align-self: flex-end;width: 50%;}#sk-container-id-2 div.sk-parallel-item:last-child::after {align-self: flex-start;width: 50%;}#sk-container-id-2 div.sk-parallel-item:only-child::after {width: 0;}#sk-container-id-2 div.sk-dashed-wrapped {border: 1px dashed gray;margin: 0 0.4em 0.5em 0.4em;box-sizing: border-box;padding-bottom: 0.4em;background-color: white;}#sk-container-id-2 div.sk-label label {font-family: monospace;font-weight: bold;display: inline-block;line-height: 1.2em;}#sk-container-id-2 div.sk-label-container {text-align: center;}#sk-container-id-2 div.sk-container {/* jupyter's `normalize.less` sets `[hidden] { display: none; }` but bootstrap.min.css set `[hidden] { display: none !important; }` so we also need the `!important` here to be able to override the default hidden behavior on the sphinx rendered scikit-learn.org. See: https://github.com/scikit-learn/scikit-learn/issues/21755 */display: inline-block !important;position: relative;}#sk-container-id-2 div.sk-text-repr-fallback {display: none;}</style><div id=\"sk-container-id-2\" class=\"sk-top-container\"><div class=\"sk-text-repr-fallback\"><pre>LinearRegression()</pre><b>In a Jupyter environment, please rerun this cell to show the HTML representation or trust the notebook. <br />On GitHub, the HTML representation is unable to render, please try loading this page with nbviewer.org.</b></div><div class=\"sk-container\" hidden><div class=\"sk-item\"><div class=\"sk-estimator sk-toggleable\"><input class=\"sk-toggleable__control sk-hidden--visually\" id=\"sk-estimator-id-2\" type=\"checkbox\" checked><label for=\"sk-estimator-id-2\" class=\"sk-toggleable__label sk-toggleable__label-arrow\">LinearRegression</label><div class=\"sk-toggleable__content\"><pre>LinearRegression()</pre></div></div></div></div></div>"
      ],
      "text/plain": [
       "LinearRegression()"
      ]
     },
     "execution_count": 40,
     "metadata": {},
     "output_type": "execute_result"
    }
   ],
   "source": [
    "# setting up the Regression Model, and fitting the data into the model\n",
    "all_reg = LinearRegression()\n",
    "all_reg.fit(X_train_all, y_train_all)"
   ]
  },
  {
   "cell_type": "code",
   "execution_count": 41,
   "id": "5aac3664-53c6-48f9-805b-3d4a06281b64",
   "metadata": {
    "tags": []
   },
   "outputs": [
    {
     "name": "stdout",
     "output_type": "stream",
     "text": [
      "[[-2.97544111e+01 -1.64778125e+01 -4.13868571e+00 -2.23346771e-02\n",
      "   5.06246550e+01  1.47457314e+02 -1.39235714e+01 -9.46530877e+00\n",
      "   8.29046526e+02]] [732.17441871]\n"
     ]
    },
    {
     "data": {
      "text/plain": [
       "0.6166037293281997"
      ]
     },
     "execution_count": 41,
     "metadata": {},
     "output_type": "execute_result"
    }
   ],
   "source": [
    "# Getting the reg coefficient and score\n",
    "print(all_reg.coef_, all_reg.intercept_)\n",
    "all_reg.score(X_train_all, y_train_all)"
   ]
  },
  {
   "cell_type": "markdown",
   "id": "888ddffe-e67c-456a-9e3a-afd92c3eee7a",
   "metadata": {
    "tags": []
   },
   "source": [
    "# Regression with Neural Networks"
   ]
  },
  {
   "cell_type": "code",
   "execution_count": null,
   "id": "44ba70be-a6a5-4659-afef-d5852ace819e",
   "metadata": {},
   "outputs": [],
   "source": []
  }
 ],
 "metadata": {
  "kernelspec": {
   "display_name": "Python 3 (ipykernel)",
   "language": "python",
   "name": "python3"
  },
  "language_info": {
   "codemirror_mode": {
    "name": "ipython",
    "version": 3
   },
   "file_extension": ".py",
   "mimetype": "text/x-python",
   "name": "python",
   "nbconvert_exporter": "python",
   "pygments_lexer": "ipython3",
   "version": "3.10.10"
  }
 },
 "nbformat": 4,
 "nbformat_minor": 5
}
