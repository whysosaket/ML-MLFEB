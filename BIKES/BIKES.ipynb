{
 "cells": [
  {
   "cell_type": "code",
   "execution_count": null,
   "id": "3a89f09a-fb73-4968-9c4d-d4b44a332e99",
   "metadata": {
    "tags": []
   },
   "outputs": [],
   "source": [
    "import pandas as pd\n",
    "import numpy as np\n",
    "import matplotlib.pyplot as plt\n",
    "from imblearn.over_sampling import RandomOverSampler\n",
    "from sklearn.preprocessing import StandardScaler\n",
    "import copy\n",
    "import seaborn as sns\n",
    "import tensorflow as tf\n",
    "from sklearn.linear_model import LinearRegression"
   ]
  },
  {
   "cell_type": "markdown",
   "id": "d42e0e01-f44e-4198-aa2c-62a782622bca",
   "metadata": {},
   "source": [
    "# Sources and Credits\n",
    "\n",
    "Data Source :http://data.seoul.go.kr/\n",
    "SOUTH KOREA PUBLIC HOLIDAYS. URL: publicholidays.go.kr\n",
    "\n",
    "\n",
    "Data Set Information:\n",
    "\n",
    "Currently Rental bikes are introduced in many urban cities for the enhancement of mobility comfort. It is important to make the rental bike available and accessible to the public at the right time as it lessens the waiting time. Eventually, providing the city with a stable supply of rental bikes becomes a major concern. The crucial part is the prediction of bike count required at each hour for the stable supply of rental bikes.\n",
    "The dataset contains weather information (Temperature, Humidity, Windspeed, Visibility, Dewpoint, Solar radiation, Snowfall, Rainfall), the number of bikes rented per hour and date information.\n",
    "\n",
    "\n",
    "Attribute Information:\n",
    "\n",
    "Date : year-month-day\n",
    "Rented Bike count - Count of bikes rented at each hour\n",
    "Hour - Hour of he day\n",
    "Temperature-Temperature in Celsius\n",
    "Humidity - %\n",
    "Windspeed - m/s\n",
    "Visibility - 10m\n",
    "Dew point temperature - Celsius\n",
    "Solar radiation - MJ/m2\n",
    "Rainfall - mm\n",
    "Snowfall - cm\n",
    "Seasons - Winter, Spring, Summer, Autumn\n",
    "Holiday - Holiday/No holiday\n",
    "Functional Day - NoFunc(Non Functional Hours), Fun(Functional hours)"
   ]
  },
  {
   "cell_type": "code",
   "execution_count": null,
   "id": "d1ca20a1-6392-4c50-9185-eca74ee14e7e",
   "metadata": {
    "tags": []
   },
   "outputs": [],
   "source": [
    "dataset_cols = [\"bike_count\", \"hour\", \"temp\", \"humidity\", \"wind\", \"visibility\", \"dew_pt_temp\", \"radiation\", \"rain\", \"snow\", \"functional\"]"
   ]
  },
  {
   "cell_type": "code",
   "execution_count": null,
   "id": "40fc7c7e-a23b-4f6c-b42c-6fd0c2e6e99a",
   "metadata": {
    "tags": []
   },
   "outputs": [],
   "source": [
    "# Reading the data frame\n",
    "df = pd.read_csv(\"SeoulBikeData.csv\").drop([\"Date\", \"Holiday\", \"Seasons\"], axis=1)\n",
    "# showing the top 5 values\n",
    "# df.head()"
   ]
  },
  {
   "cell_type": "code",
   "execution_count": null,
   "id": "537f75f5-d20e-40fd-98c6-5c4bfc12f461",
   "metadata": {
    "tags": []
   },
   "outputs": [],
   "source": [
    "# setting the dataframe columns to our relevant data\n",
    "df.columns = dataset_cols\n",
    "# convert functional column as type integer\n",
    "df[\"functional\"] = (df[\"functional\"] == \"Yes\").astype(int)\n",
    "df.head()"
   ]
  },
  {
   "cell_type": "code",
   "execution_count": null,
   "id": "cf9b04a0-df52-423d-9c8c-8726f4a0538c",
   "metadata": {
    "tags": []
   },
   "outputs": [],
   "source": [
    "# Now, we'll use only for time where hour is equal to 12\n",
    "df = df[df[\"hour\"] == 12]\n",
    "df = df.drop([\"hour\"], axis = 1)\n",
    "df.head()"
   ]
  },
  {
   "cell_type": "code",
   "execution_count": null,
   "id": "440e9376-8f3e-46c5-9628-fb608d84c544",
   "metadata": {
    "tags": []
   },
   "outputs": [],
   "source": [
    "df = df.drop([\"wind\", \"visibility\", \"functional\"], axis=1)"
   ]
  },
  {
   "cell_type": "code",
   "execution_count": null,
   "id": "66ac6c18-5e46-4120-ae45-7d7d5fb9c219",
   "metadata": {
    "tags": []
   },
   "outputs": [],
   "source": [
    "# Now, we are going to print and plot all the data\n",
    "for label in df.columns[1:]:\n",
    "    plt.scatter(df[label], df[\"bike_count\"])\n",
    "    plt.title(label)\n",
    "    plt.ylabel(\"Bike count at noon\")\n",
    "    plt.xlabel(label)\n",
    "    plt.show()"
   ]
  },
  {
   "cell_type": "markdown",
   "id": "00c49221-906e-4972-815e-13fb8b9d2b14",
   "metadata": {},
   "source": [
    "# Training Validation and Test Dataset"
   ]
  },
  {
   "cell_type": "code",
   "execution_count": null,
   "id": "b5c067d7-3af9-4ea4-81de-f89bd6e5193a",
   "metadata": {
    "tags": []
   },
   "outputs": [],
   "source": [
    "train, val, test = np.split(df.sample(frac=1), [int(0.6*len(df)), int(0.8*len(df))])"
   ]
  },
  {
   "cell_type": "code",
   "execution_count": null,
   "id": "99a0fe85-6dad-4251-b667-9ef3410a8cf1",
   "metadata": {
    "tags": []
   },
   "outputs": [],
   "source": [
    "# Writing a function to get xy\n",
    "def get_xy(dataframe, y_label, x_labels=None):\n",
    "    # creating a deep copy of the data frame\n",
    "    # Basically copying everything over\n",
    "    dataframe = copy.deepcopy(dataframe)\n",
    "    if x_labels is None:\n",
    "        # if x_label is not defined then the values from the df are taken as x_labels\n",
    "        X = dataframe[[c for c in dataframe.columns if c!=y_label]].values\n",
    "    else:\n",
    "        if len(x_labels) == 1:\n",
    "            X = dataframe[x_labels[0]].values.reshape(-1,1)\n",
    "        else:\n",
    "            X = dataframe[x_labels].values\n",
    "    y = dataframe[y_label].values.reshape(-1,1)\n",
    "    data = np.hstack((X,y))\n",
    "    \n",
    "    return data, X, y"
   ]
  },
  {
   "cell_type": "code",
   "execution_count": null,
   "id": "dcf39b11-64ce-49e7-9c33-943fac7d8a50",
   "metadata": {},
   "outputs": [],
   "source": [
    "_, X_train_temp, y_train_temp = get_xy(train, \"bike_count\", x_labels=[\"temp\"])\n",
    "_, X_val_temp, y_val_temp = get_xy(val, \"bike_count\", x_labels=[\"temp\"])\n",
    "_, X_test_temp, y_test_temp = get_xy(test, \"bike_count\", x_labels=[\"temp\"])"
   ]
  },
  {
   "cell_type": "code",
   "execution_count": null,
   "id": "1597e158-1a34-40ce-b6d7-60127db8e5f8",
   "metadata": {
    "tags": []
   },
   "outputs": [],
   "source": [
    "# Making an actual regression model\n",
    "temp_reg = LinearRegression()\n",
    "temp_reg.fit(X_train_temp, y_train_temp)"
   ]
  },
  {
   "cell_type": "code",
   "execution_count": 159,
   "id": "ab1f463a-7a18-4f1a-83c4-47f8d205aa7f",
   "metadata": {
    "tags": []
   },
   "outputs": [
    {
     "name": "stdout",
     "output_type": "stream",
     "text": [
      "[[21.25220379]] [372.67087536]\n"
     ]
    },
    {
     "data": {
      "text/plain": [
       "0.33129306891596333"
      ]
     },
     "execution_count": 159,
     "metadata": {},
     "output_type": "execute_result"
    }
   ],
   "source": [
    "# This below code just prints the coefficient and the intercept for the given data model\n",
    "print(temp_reg.coef_, temp_reg.intercept_)\n",
    "# now we check assiciation using the R^2 value using the .score method\n",
    "temp_reg.score(X_train_temp, y_train_temp)\n",
    "# Here we get the value nearly, 0.34 which is more than zero (which means that there is no assication (At ZERO))\n",
    "# This value also means that it is also not very good enough\n",
    "\n",
    "# In short, the higher the number is the higher the number will be co-related"
   ]
  },
  {
   "cell_type": "code",
   "execution_count": null,
   "id": "a43db426-4316-4417-8b29-2c34f3109f3f",
   "metadata": {
    "tags": []
   },
   "outputs": [],
   "source": [
    "# Plotting the line of best fit\n",
    "plt.scatter(X_train_temp, y_train_temp, label=\"Data\", color=\"blue\")\n",
    "x = tf.linspace(-20,40,100)\n",
    "plt.plot(x, temp_reg.predict(np.array(x).reshape(-1,1)), label=\"Fit\", color=\"red\", linewidth=3)\n",
    "plt.legend()\n",
    "plt.title(\"Bikes vs Temp\")\n",
    "plt.ylabel(\"Number of bikes\")\n",
    "plt.xlabel(\"Temp\")\n",
    "plt.show()"
   ]
  },
  {
   "cell_type": "markdown",
   "id": "f35eae02-8e31-4094-81ce-5d905f2f91de",
   "metadata": {},
   "source": [
    "# Multiple Linear Regression"
   ]
  },
  {
   "cell_type": "code",
   "execution_count": null,
   "id": "9208271e-68ad-42bc-af63-f9b2ed0e5069",
   "metadata": {
    "tags": []
   },
   "outputs": [],
   "source": [
    "_, X_train_all, y_train_all = get_xy(train, \"bike_count\", x_labels=df.columns[1:])\n",
    "_, X_val_all, y_val_all = get_xy(val, \"bike_count\", x_labels=df.columns[1:])\n",
    "_, X_test_all, y_test_all = get_xy(test, \"bike_count\", x_labels=df.columns[1:])"
   ]
  },
  {
   "cell_type": "code",
   "execution_count": null,
   "id": "5b81d6f1-13f0-4b43-8b39-1f3efdee28e1",
   "metadata": {
    "tags": []
   },
   "outputs": [],
   "source": [
    "# setting up the Regression Model, and fitting the data into the model\n",
    "all_reg = LinearRegression()\n",
    "all_reg.fit(X_train_all, y_train_all)"
   ]
  },
  {
   "cell_type": "code",
   "execution_count": 158,
   "id": "5aac3664-53c6-48f9-805b-3d4a06281b64",
   "metadata": {
    "tags": []
   },
   "outputs": [
    {
     "name": "stdout",
     "output_type": "stream",
     "text": [
      "[[ 15.88490381  -2.5447291    0.89516328 124.8962276  -75.77839666\n",
      "  -58.11182139]] [356.25045999]\n"
     ]
    },
    {
     "data": {
      "text/plain": [
       "0.5077476916248685"
      ]
     },
     "execution_count": 158,
     "metadata": {},
     "output_type": "execute_result"
    }
   ],
   "source": [
    "# Getting the reg coefficient and score\n",
    "print(all_reg.coef_, all_reg.intercept_)\n",
    "all_reg.score(X_train_all, y_train_all)"
   ]
  },
  {
   "cell_type": "markdown",
   "id": "888ddffe-e67c-456a-9e3a-afd92c3eee7a",
   "metadata": {
    "tags": []
   },
   "source": [
    "# Regression with Neural Networks (Linear)"
   ]
  },
  {
   "cell_type": "code",
   "execution_count": null,
   "id": "44ba70be-a6a5-4659-afef-d5852ace819e",
   "metadata": {
    "tags": []
   },
   "outputs": [],
   "source": [
    "# When using Neural Networks, it is benifitial to use normalizer we can use TF for this case\n",
    "temp_normalizer = tf.keras.layers.Normalization(input_shape=(1,), axis=None)\n",
    "temp_normalizer.adapt(X_train_temp.reshape(-1))"
   ]
  },
  {
   "cell_type": "code",
   "execution_count": null,
   "id": "9c3062be-0983-46c8-8151-f41aa2b09ece",
   "metadata": {
    "tags": []
   },
   "outputs": [],
   "source": [
    "temp_nn_model = tf.keras.Sequential([\n",
    "    temp_normalizer,\n",
    "    tf.keras.layers.Dense(1)\n",
    "])\n",
    "# Now, Since we are not passing any activation function, our output fot this 1D input will also be Linear"
   ]
  },
  {
   "cell_type": "code",
   "execution_count": null,
   "id": "bd9d84da-a007-477d-84d6-a2f3cd44a940",
   "metadata": {
    "tags": []
   },
   "outputs": [],
   "source": [
    "temp_nn_model.compile(optimizer=tf.keras.optimizers.Adam(learning_rate=0.1), loss='mean_squared_error')"
   ]
  },
  {
   "cell_type": "code",
   "execution_count": null,
   "id": "b1af2ee2-d4d5-40e4-a9a3-e0703cc4fa23",
   "metadata": {
    "tags": []
   },
   "outputs": [],
   "source": [
    "history = temp_nn_model.fit(\n",
    "    X_train_temp.reshape(-1), y_train_temp,\n",
    "    verbose=0,\n",
    "    epochs=1000,\n",
    "    validation_data=(X_val_temp,y_val_temp)\n",
    ")"
   ]
  },
  {
   "cell_type": "code",
   "execution_count": null,
   "id": "14fe0a76-3ad3-4a79-ac18-ea02eaecfa84",
   "metadata": {
    "tags": []
   },
   "outputs": [],
   "source": [
    "# summarize history for loss\n",
    "def plot_loss(history):\n",
    "    plt.plot(history.history['loss'], label='loss')\n",
    "    plt.plot(history.history['val_loss'], label='val_loss')\n",
    "    plt.ylabel('MSE')\n",
    "    plt.xlabel('epoch')\n",
    "    plt.legend()\n",
    "    plt.grid(True)\n",
    "    plt.show()"
   ]
  },
  {
   "cell_type": "code",
   "execution_count": null,
   "id": "cc84766d-9483-4904-b366-6f825853b4a7",
   "metadata": {
    "tags": []
   },
   "outputs": [],
   "source": [
    "plot_loss(history)"
   ]
  },
  {
   "cell_type": "code",
   "execution_count": null,
   "id": "53f44089-2c8b-4dd2-ad5a-20938638107a",
   "metadata": {
    "tags": []
   },
   "outputs": [],
   "source": [
    "# Plotting the Best Fit Line With the Neural Network Model (Linear)\n",
    "# Plotting the line of best fit\n",
    "plt.scatter(X_train_temp, y_train_temp, label=\"Data\", color=\"blue\")\n",
    "x = tf.linspace(-20,40,100)\n",
    "plt.plot(x, temp_nn_model.predict(np.array(x).reshape(-1,1)), label=\"Fit\", color=\"red\", linewidth=3)\n",
    "plt.legend()\n",
    "plt.title(\"Bikes vs Temp\")\n",
    "plt.ylabel(\"Number of bikes\")\n",
    "plt.xlabel(\"Temp\")\n",
    "plt.show()"
   ]
  },
  {
   "cell_type": "markdown",
   "id": "f5d25323-ce2d-4cf4-a536-2a2187af9294",
   "metadata": {},
   "source": [
    "# Neural Network (Complete)"
   ]
  },
  {
   "cell_type": "code",
   "execution_count": null,
   "id": "c7cb9948-161b-42b2-8170-2c6c1e05988d",
   "metadata": {
    "tags": []
   },
   "outputs": [],
   "source": [
    "# Setting up the neural network model, with activation set to relu\n",
    "nn_model = tf.keras.Sequential([\n",
    "    temp_normalizer,\n",
    "    tf.keras.layers.Dense(32, activation='relu'),\n",
    "    tf.keras.layers.Dense(32, activation='relu'),\n",
    "    tf.keras.layers.Dense(32, activation='relu'),\n",
    "    tf.keras.layers.Dense(1, activation='relu')\n",
    "])\n",
    "nn_model.compile(optimizer=tf.keras.optimizers.Adam(learning_rate=0.001), loss='mean_squared_error')\n",
    "# Here we can add any number of nodes and stuff in order to get the best fitting result"
   ]
  },
  {
   "cell_type": "code",
   "execution_count": null,
   "id": "f65c3077-d6f1-4083-b8bb-0d9170612667",
   "metadata": {
    "tags": []
   },
   "outputs": [],
   "source": [
    "history = nn_model.fit(\n",
    "    X_train_temp, y_train_temp,\n",
    "    validation_data = (X_val_temp, y_val_temp),\n",
    "    verbose=0,\n",
    "    epochs=100\n",
    ")\n",
    "plot_loss(history)"
   ]
  },
  {
   "cell_type": "code",
   "execution_count": null,
   "id": "0898de29-bfc3-467f-8e05-4d70c44dc39b",
   "metadata": {
    "tags": []
   },
   "outputs": [],
   "source": [
    " # Plotting the Best Fit Line With the Neural Network Model (Complete)\n",
    "# Plotting the line of best fit\n",
    "plt.scatter(X_train_temp, y_train_temp, label=\"Data\", color=\"blue\")\n",
    "x = tf.linspace(-20,40,100)\n",
    "plt.plot(x, nn_model.predict(np.array(x).reshape(-1,1)), label=\"Fit\", color=\"red\", linewidth=3)\n",
    "plt.legend()\n",
    "plt.title(\"Bikes vs Temp\")\n",
    "plt.ylabel(\"Number of bikes\")\n",
    "plt.xlabel(\"Temp\")\n",
    "plt.show()"
   ]
  },
  {
   "cell_type": "markdown",
   "id": "f10b7a0f-15c2-46a0-932f-015adb62551a",
   "metadata": {
    "tags": []
   },
   "source": [
    "# Predicting Now With All the Data (Multi Regression)"
   ]
  },
  {
   "cell_type": "code",
   "execution_count": null,
   "id": "b93c1dcd-d045-4465-9fd6-7ad147c5d3c9",
   "metadata": {
    "tags": []
   },
   "outputs": [],
   "source": [
    "# When using Neural Networks, it is benifitial to use normalizer we can use TF for this case\n",
    "all_normalizer = tf.keras.layers.Normalization(input_shape=(6,), axis=-1)\n",
    "all_normalizer.adapt(X_train_all)"
   ]
  },
  {
   "cell_type": "code",
   "execution_count": null,
   "id": "6a3bae9a-ee12-46f3-ae45-e2978c0d38f2",
   "metadata": {
    "tags": []
   },
   "outputs": [],
   "source": [
    "# Setting up the neural network model, with activation set to relu\n",
    "nn_model = tf.keras.Sequential([\n",
    "    all_normalizer,\n",
    "    tf.keras.layers.Dense(32, activation='relu'),\n",
    "    tf.keras.layers.Dense(32, activation='relu'),\n",
    "    tf.keras.layers.Dense(1)\n",
    "])\n",
    "nn_model.compile(optimizer=tf.keras.optimizers.Adam(learning_rate=0.001), loss='mean_squared_error')\n",
    "# Here we can add any number of nodes and stuff in order to get the best fitting result"
   ]
  },
  {
   "cell_type": "code",
   "execution_count": null,
   "id": "9e175fab-1d8b-4270-aae3-3a7497052eb9",
   "metadata": {
    "tags": []
   },
   "outputs": [],
   "source": [
    "history = nn_model.fit(\n",
    "    X_train_all, y_train_all,\n",
    "    validation_data = (X_val_all, y_val_all),\n",
    "    verbose=0,\n",
    "    epochs=100\n",
    ")\n",
    "plot_loss(history)"
   ]
  },
  {
   "cell_type": "code",
   "execution_count": null,
   "id": "37270736-61a2-496c-ab98-3fd9e0222d7b",
   "metadata": {
    "tags": []
   },
   "outputs": [],
   "source": [
    "# Calculate the MSE for both linear regressor and neural network\n",
    "y_pred_lr = all_reg.predict(X_test_all)\n",
    "y_pred_nn = nn_model.predict(X_test_all)"
   ]
  },
  {
   "cell_type": "code",
   "execution_count": null,
   "id": "8cf623bf-5858-45fa-8e12-5fe7bb791cba",
   "metadata": {
    "tags": []
   },
   "outputs": [],
   "source": [
    "# Method to calculate the MSE\n",
    "def MSE(y_pred, y_real):\n",
    "    return (np.square(y_pred - y_real)).mean()"
   ]
  },
  {
   "cell_type": "code",
   "execution_count": null,
   "id": "f7e6645a-8a91-4d5a-a1e7-209b9e227aeb",
   "metadata": {
    "tags": []
   },
   "outputs": [],
   "source": [
    "# Making the actual predictions\n",
    "print(MSE(y_pred_lr, y_test_all), MSE(y_pred_nn, y_test_all))"
   ]
  },
  {
   "cell_type": "code",
   "execution_count": 157,
   "id": "99d9720f-4e81-4742-b866-1898e1b6bfd1",
   "metadata": {
    "tags": []
   },
   "outputs": [
    {
     "data": {
      "image/png": "[encoded data removed]",
      "text/plain": [
       "<Figure size 640x480 with 1 Axes>"
      ]
     },
     "metadata": {},
     "output_type": "display_data"
    }
   ],
   "source": [
    "# Plotting real vs predicted MSE\n",
    "ax = plt.axes(aspect=\"equal\")\n",
    "plt.scatter(y_test_all, y_pred_lr, label=\"Lin Reg Preds\")\n",
    "plt.scatter(y_test_all, y_pred_nn, label=\"NN Preds\")\n",
    "plt.xlabel(\"True Values\")\n",
    "plt.ylabel(\"Predictions\")\n",
    "lims = [0, 1800]\n",
    "plt.xlim(lims)\n",
    "plt.ylim(lims)\n",
    "plt.legend()\n",
    "_ = plt.plot(lims, lims, c=\"red\")"
   ]
  },
  {
   "cell_type": "code",
   "execution_count": null,
   "id": "8d5ba284-3230-4ba6-82e3-ec0b9b99b2fe",
   "metadata": {},
   "outputs": [],
   "source": []
  }
 ],
 "metadata": {
  "kernelspec": {
   "display_name": "Python 3 (ipykernel)",
   "language": "python",
   "name": "python3"
  },
  "language_info": {
   "codemirror_mode": {
    "name": "ipython",
    "version": 3
   },
   "file_extension": ".py",
   "mimetype": "text/x-python",
   "name": "python",
   "nbconvert_exporter": "python",
   "pygments_lexer": "ipython3",
   "version": "3.10.10"
  }
 },
 "nbformat": 4,
 "nbformat_minor": 5
}
