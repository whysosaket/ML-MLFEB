{
 "cells": [
  {
   "cell_type": "code",
   "execution_count": null,
   "id": "b136e36a-d425-4ae1-9814-397af2ab1b56",
   "metadata": {
    "tags": []
   },
   "outputs": [],
   "source": [
    "# Handling all the imports\n",
    "import pandas as pd\n",
    "import numpy as np\n",
    "import tensorflow as tf\n",
    "import matplotlib.pyplot as plt\n",
    "import seaborn as sns"
   ]
  },
  {
   "cell_type": "markdown",
   "id": "60fad657-1c2c-4507-937c-9550487513a1",
   "metadata": {},
   "source": [
    "Data Set Information:\n",
    "\n",
    "The examined group comprised kernels belonging to three different varieties of wheat: Kama, Rosa and Canadian, 70 elements each, randomly selected for\n",
    "the experiment. High quality visualization of the internal kernel structure was detected using a soft X-ray technique. It is non-destructive and considerably cheaper than other more sophisticated imaging techniques like scanning microscopy or laser technology. The images were recorded on 13x18 cm X-ray KODAK plates. Studies were conducted using combine harvested wheat grain originating from experimental fields, explored at the Institute of Agrophysics of the Polish Academy of Sciences in Lublin.\n",
    "\n",
    "The data set can be used for the tasks of classification and cluster analysis.\n",
    "\n",
    "\n",
    "Attribute Information:\n",
    "\n",
    "To construct the data, seven geometric parameters of wheat kernels were measured:\n",
    "1. area A,\n",
    "2. perimeter P,\n",
    "3. compactness C = 4*pi*A/P^2,\n",
    "4. length of kernel,\n",
    "5. width of kernel,\n",
    "6. asymmetry coefficient\n",
    "7. length of kernel groove.\n",
    "All of these parameters were real-valued continuous."
   ]
  },
  {
   "cell_type": "code",
   "execution_count": null,
   "id": "b86ac3d6-e0a3-4838-bf29-a9e358f667f7",
   "metadata": {
    "tags": []
   },
   "outputs": [],
   "source": [
    "# defining the cols in data\n",
    "cols = [\"area\", \"perimeter\", \"compactness\", \"length\", \"width\", \"asymmetry\", \"groove\", \"class\"]\n",
    "# Reading the data frame\n",
    "df = pd.read_csv(\"seeds_dataset.txt\", names=cols, sep=\"\\s+\")\n",
    "# we use seperator as to classify the data into columns as we do not always get pre col data\n",
    "# here \\s+ is used to serve the purpose"
   ]
  },
  {
   "cell_type": "code",
   "execution_count": null,
   "id": "dae08e7f-29c8-4b1f-90cb-0c948211e54d",
   "metadata": {
    "tags": []
   },
   "outputs": [],
   "source": [
    "df.head()"
   ]
  },
  {
   "cell_type": "code",
   "execution_count": null,
   "id": "4e54bac2-a20f-47c4-8a4c-8d792089ab7b",
   "metadata": {
    "tags": []
   },
   "outputs": [],
   "source": [
    "# plotting the data against each other, with actually not using the class\n",
    "# we will pretend that this data is not useful and we'll predict this data\n",
    "for i in range(len(cols)-1):\n",
    "    for j in range(i+1, len(cols)-1):\n",
    "        x_label = cols[i]\n",
    "        y_label = cols[j]\n",
    "        # Here the hue wull compare the three different classes with three different colors in the plot\n",
    "        sns.scatterplot(x=x_label, y=y_label, data=df, hue='class')\n",
    "        plt.show()"
   ]
  },
  {
   "cell_type": "markdown",
   "id": "eca663fc-2a5f-4ea5-b536-2534d5753753",
   "metadata": {},
   "source": [
    "# Clustering"
   ]
  },
  {
   "cell_type": "code",
   "execution_count": null,
   "id": "186e30e7-658f-4c9e-a481-933b47380443",
   "metadata": {
    "tags": []
   },
   "outputs": [],
   "source": [
    "# Using the sklearn module to import KMeans\n",
    "from sklearn.cluster import KMeans"
   ]
  },
  {
   "cell_type": "code",
   "execution_count": null,
   "id": "3fece2d4-6761-44dc-be6d-3e720f63670c",
   "metadata": {
    "tags": []
   },
   "outputs": [],
   "source": [
    "x = \"compactness\"\n",
    "y = \"asymmetry\"\n",
    "X = df[[x,y]].values"
   ]
  },
  {
   "cell_type": "code",
   "execution_count": null,
   "id": "f26baa07-2af1-45b8-ab1b-a6c06ee31f44",
   "metadata": {
    "tags": []
   },
   "outputs": [],
   "source": [
    "kmeans = KMeans(n_clusters=3, n_init=\"auto\")\n",
    "kmeans.fit(X)"
   ]
  },
  {
   "cell_type": "code",
   "execution_count": null,
   "id": "8e9c013b-caf5-4319-887c-59a120fda06d",
   "metadata": {
    "tags": []
   },
   "outputs": [],
   "source": [
    "# This gives the predictions that from our cluster model\n",
    "clusters = kmeans.labels_"
   ]
  },
  {
   "cell_type": "code",
   "execution_count": null,
   "id": "7ffc6081-54f3-4fd7-8f8a-cc6b971d8366",
   "metadata": {
    "tags": []
   },
   "outputs": [],
   "source": [
    "clusters"
   ]
  },
  {
   "cell_type": "code",
   "execution_count": null,
   "id": "1dac86b5-199a-4b25-abc1-b3181d51e312",
   "metadata": {
    "tags": []
   },
   "outputs": [],
   "source": [
    "# These are the actual values that we get with the dataset\n",
    "# and we can also use this data to compare with our predicted value\n",
    "df[\"class\"].values"
   ]
  },
  {
   "cell_type": "code",
   "execution_count": null,
   "id": "0c014cc1-bda0-41cd-8409-04b4853ff481",
   "metadata": {
    "tags": []
   },
   "outputs": [],
   "source": [
    "cluster_df = pd.DataFrame(np.hstack((X, clusters.reshape(-1,1))), columns = [x,y,\"class\"])"
   ]
  },
  {
   "cell_type": "code",
   "execution_count": null,
   "id": "79d48b3d-2bce-44a7-832f-55e7dfcdb161",
   "metadata": {
    "tags": []
   },
   "outputs": [],
   "source": [
    "# K Means Classes, as predicted\n",
    "sns.scatterplot(x=x,y=y, hue='class', data=cluster_df)\n",
    "plt.show()"
   ]
  },
  {
   "cell_type": "code",
   "execution_count": null,
   "id": "f88d5509-2b6b-42ee-9004-60cc9b623d89",
   "metadata": {
    "tags": []
   },
   "outputs": [],
   "source": [
    "# printing the original plot\n",
    "sns.scatterplot(x=x,y=y, hue='class', data=df)\n",
    "plt.show()"
   ]
  },
  {
   "cell_type": "markdown",
   "id": "34fb0460-782b-4ae5-b296-d0ddc1c5fdd1",
   "metadata": {},
   "source": [
    "# Higher Dimentions"
   ]
  },
  {
   "cell_type": "code",
   "execution_count": null,
   "id": "b074134b-e455-44e9-8126-5cda98f74ea9",
   "metadata": {
    "tags": []
   },
   "outputs": [],
   "source": [
    "# Actually using all the dimentions insted of only one\n",
    "X = df[cols[:-1]].values\n",
    "kmeans = KMeans(n_clusters=3, n_init=\"auto\")\n",
    "kmeans.fit(X)\n",
    "cluster_df = pd.DataFrame(np.hstack((X, kmeans.labels_.reshape(-1,1))), columns = df.columns)"
   ]
  },
  {
   "cell_type": "code",
   "execution_count": null,
   "id": "a0f684c0-bc99-402e-9d03-7f8d083ef336",
   "metadata": {
    "tags": []
   },
   "outputs": [],
   "source": [
    "# K Means Classes, as predicted\n",
    "sns.scatterplot(x=x,y=y, hue='class', data=cluster_df)\n",
    "plt.show()"
   ]
  },
  {
   "cell_type": "code",
   "execution_count": null,
   "id": "13a4a7c9-22da-417a-85a5-589ffd8daee1",
   "metadata": {
    "tags": []
   },
   "outputs": [],
   "source": [
    "# K Means Classes, as predicted\n",
    "sns.scatterplot(x=x,y=y, hue='class', data=df)\n",
    "plt.show()"
   ]
  },
  {
   "cell_type": "markdown",
   "id": "fa48c894-40c1-46d9-bfa6-85736358fceb",
   "metadata": {},
   "source": [
    "# PCA"
   ]
  },
  {
   "cell_type": "code",
   "execution_count": null,
   "id": "8beffa0c-18ed-4e4c-bc13-191f5ec71583",
   "metadata": {
    "tags": []
   },
   "outputs": [],
   "source": [
    "from sklearn.decomposition import PCA"
   ]
  },
  {
   "cell_type": "code",
   "execution_count": null,
   "id": "59d59b79-7def-413c-879e-9d1445df7154",
   "metadata": {
    "tags": []
   },
   "outputs": [],
   "source": [
    "# Component is how many dimentions i want to map it into\n",
    "pca = PCA(n_components=2)\n",
    "transformed_x = pca.fit_transform(X)"
   ]
  },
  {
   "cell_type": "code",
   "execution_count": null,
   "id": "08f7fa37-db74-4b8b-8784-a3e91cce0209",
   "metadata": {
    "tags": []
   },
   "outputs": [],
   "source": [
    "X.shape\n",
    "# Can we seen as I had 210 samples and each of them has 7 features"
   ]
  },
  {
   "cell_type": "code",
   "execution_count": null,
   "id": "75c4a2de-06dd-4c03-a2a5-e5cce7d27f37",
   "metadata": {
    "tags": []
   },
   "outputs": [],
   "source": [
    "transformed_x.shape"
   ]
  },
  {
   "cell_type": "code",
   "execution_count": null,
   "id": "c886da6b-7393-4023-8d2a-514797e5900f",
   "metadata": {
    "tags": []
   },
   "outputs": [],
   "source": [
    "# taking a look at the first five things\n",
    "transformed_x[:5]"
   ]
  },
  {
   "cell_type": "code",
   "execution_count": null,
   "id": "1315b5b1-7630-474d-a295-7e1150677307",
   "metadata": {
    "tags": []
   },
   "outputs": [],
   "source": [
    "plt.scatter(transformed_x[:,0], transformed_x[:,1])\n",
    "plt.show()"
   ]
  },
  {
   "cell_type": "code",
   "execution_count": null,
   "id": "d04d9ef6-95b5-4b9f-8bb3-8ffce0202563",
   "metadata": {
    "tags": []
   },
   "outputs": [],
   "source": [
    "kmeans_pca_df = pd.DataFrame(np.hstack((transformed_x, kmeans.labels_.reshape(-1, 1))), columns=[\"pca1\", \"pca2\", \"class\"])"
   ]
  },
  {
   "cell_type": "code",
   "execution_count": null,
   "id": "cd6b9deb-8db3-4249-a5ce-4085bc91c004",
   "metadata": {
    "tags": []
   },
   "outputs": [],
   "source": [
    "truth_pca_df = pd.DataFrame(np.hstack((transformed_x, df[\"class\"].values.reshape(-1, 1))), columns=[\"pca1\", \"pca2\", \"class\"])"
   ]
  },
  {
   "cell_type": "code",
   "execution_count": null,
   "id": "b0995078-29a3-492f-aa3c-528b0438ed4c",
   "metadata": {
    "tags": []
   },
   "outputs": [],
   "source": [
    "# K Means classes\n",
    "sns.scatterplot(x=\"pca1\", y=\"pca2\", hue='class', data=kmeans_pca_df)\n",
    "plt.show()"
   ]
  },
  {
   "cell_type": "code",
   "execution_count": null,
   "id": "7ddd7e7d-7753-4a19-b8f6-4744e8c525bd",
   "metadata": {
    "tags": []
   },
   "outputs": [],
   "source": [
    "# Truth classes\n",
    "sns.scatterplot(x=\"pca1\", y=\"pca2\", hue='class', data=truth_pca_df)\n",
    "plt.show()"
   ]
  }
 ],
 "metadata": {
  "kernelspec": {
   "display_name": "Python 3 (ipykernel)",
   "language": "python",
   "name": "python3"
  },
  "language_info": {
   "codemirror_mode": {
    "name": "ipython",
    "version": 3
   },
   "file_extension": ".py",
   "mimetype": "text/x-python",
   "name": "python",
   "nbconvert_exporter": "python",
   "pygments_lexer": "ipython3",
   "version": "3.10.10"
  }
 },
 "nbformat": 4,
 "nbformat_minor": 5
}
